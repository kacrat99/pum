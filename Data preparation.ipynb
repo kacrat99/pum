{
 "cells": [
  {
   "cell_type": "code",
   "execution_count": 215,
   "metadata": {},
   "outputs": [],
   "source": [
    "import pandas as pd\n",
    "import numpy as np\n",
    "import matplotlib.pyplot as plt\n",
    "\n",
    "from IPython.display import display\n",
    "\n",
    "import gc"
   ]
  },
  {
   "cell_type": "code",
   "execution_count": 41,
   "metadata": {},
   "outputs": [],
   "source": [
    "games = pd.read_csv('../data/games.csv')\n",
    "games_details = pd.read_csv('../data/games_details.csv')\n",
    "players = pd.read_csv('../data/players.csv')\n",
    "teams = pd.read_csv('../data/teams.csv')\n",
    "ranking = pd.read_csv('../data/ranking.csv')"
   ]
  },
  {
   "cell_type": "code",
   "execution_count": null,
   "metadata": {},
   "outputs": [],
   "source": [
    "gc.collect()"
   ]
  },
  {
   "cell_type": "code",
   "execution_count": null,
   "metadata": {},
   "outputs": [],
   "source": [
    "fig, ax = plt.subplots(figsize=(11,5))\n",
    "\n",
    "v_c = games['SEASON'].value_counts().sort_index()\n",
    "v_c.index = v_c.index.astype(str)\n",
    "ax.bar(v_c.index, v_c.values)\n",
    "\n",
    "plt.show()"
   ]
  },
  {
   "cell_type": "code",
   "execution_count": null,
   "metadata": {},
   "outputs": [],
   "source": [
    "fig, ax = plt.subplots(figsize=(6,5))\n",
    "\n",
    "v_c = games['HOME_TEAM_WINS'].value_counts(normalize=True)\n",
    "v_c.index = v_c.index.astype(str)\n",
    "\n",
    "ax.bar(v_c.index, v_c.values)\n",
    "\n",
    "for i in ax.patches:\n",
    "    x, y = i.get_x(), i.get_y()\n",
    "    w, h = i.get_width(), i.get_height()\n",
    "\n",
    "    val = str(round(h*100,1)) + '%' \n",
    "\n",
    "    ax.text(x + w/2, y + h/2, val,\n",
    "            horizontalalignment='center', verticalalignment='center',\n",
    "            fontsize=13, color='white')\n",
    "\n",
    "plt.show()"
   ]
  },
  {
   "cell_type": "code",
   "execution_count": 70,
   "metadata": {},
   "outputs": [],
   "source": [
    "def format_record(record):\n",
    "    w = int(record[0])\n",
    "    l = int(record[1])\n",
    "    n = w+l\n",
    "    \n",
    "    if n == 0:\n",
    "        return np.NaN\n",
    "    \n",
    "    return w / n\n",
    "\n",
    "def format_rankings(ranking):\n",
    "    \n",
    "    home_record = ranking.loc[:,'HOME_RECORD'].str.split('-').apply(format_record)\n",
    "    road_record = ranking.loc[:,'ROAD_RECORD'].str.split('-').apply(format_record)\n",
    "    \n",
    "    ranking.loc[:,'HOME_RECORD'] = home_record\n",
    "    ranking.loc[:,'ROAD_RECORD'] = road_record\n",
    "    \n",
    "    ranking.loc[:,'SEASON_ID'] = ranking.loc[:,'SEASON_ID'].astype(str).str[1:]\n",
    "    \n",
    "    return ranking\n",
    "\n",
    "\n",
    "\n",
    "ranking = pd.read_csv('../data/ranking.csv')\n",
    "ranking = format_rankings(ranking)"
   ]
  },
  {
   "cell_type": "code",
   "execution_count": null,
   "metadata": {},
   "outputs": [],
   "source": [
    "games.sample(5)[['GAME_DATE_EST','TEAM_ID_home','TEAM_ID_away','PTS_home','PTS_away','HOME_TEAM_WINS']]"
   ]
  },
  {
   "cell_type": "code",
   "execution_count": 146,
   "metadata": {},
   "outputs": [],
   "source": [
    "ranking = ranking.sort_values(by='STANDINGSDATE')"
   ]
  },
  {
   "cell_type": "code",
   "execution_count": 298,
   "metadata": {
    "scrolled": false
   },
   "outputs": [],
   "source": [
    "def get_team_ranking_before_date(team_id, date, min_games=10):\n",
    "    \n",
    "    \n",
    "    _ranking = ranking.loc[ranking['STANDINGSDATE'] < date]\n",
    "    _ranking = _ranking.loc[_ranking['TEAM_ID'] == team_id]\n",
    "    \n",
    "    if _ranking.tail(1)['G'].values[0] < min_games:\n",
    "        _ranking = _ranking.loc[_ranking['SEASON_ID']  < _ranking['SEASON_ID'].max()]\n",
    "    \n",
    "    _prev_season = _ranking.loc[_ranking['SEASON_ID']  < _ranking['SEASON_ID'].max()]\n",
    "    _prev_season = _prev_season.loc[_prev_season['STANDINGSDATE'] == _prev_season['STANDINGSDATE'].max()]\n",
    "    \n",
    "    _current_season = _ranking[_ranking['STANDINGSDATE'] == _ranking['STANDINGSDATE'].max()]\n",
    "    \n",
    "    _current_season = _current_season[['TEAM_ID','G','W_PCT','HOME_RECORD','ROAD_RECORD']]\n",
    "    _prev_season = _prev_season[['TEAM_ID','W_PCT','HOME_RECORD','ROAD_RECORD']]\n",
    "    \n",
    "    return _current_season.merge(_prev_season, on='TEAM_ID', suffixes=('','_prev')).drop(columns='TEAM_ID')\n",
    "\n",
    "\n",
    "def get_team_ranking_before_game(games):\n",
    "    _games = games.copy()\n",
    "    \n",
    "    def _get_ranking(game):\n",
    "        date = game['GAME_DATE_EST'].values[0]\n",
    "        home_team = game['TEAM_ID_home'].values[0]\n",
    "        away_team = game['TEAM_ID_away'].values[0]\n",
    "        \n",
    "        h_rank = get_team_ranking_before_date(home_team, date)\n",
    "        a_rank = get_team_ranking_before_date(away_team, date)\n",
    "        \n",
    "        h_rank.columns += '_home'\n",
    "        a_rank.columns += '_away'\n",
    "        \n",
    "        return pd.concat([h_rank, a_rank], axis=1)\n",
    "    \n",
    "        \n",
    "    _games = _games.groupby('GAME_ID').apply(_get_ranking)\n",
    "    _games = _games.reset_index().drop(columns='level_1')\n",
    "    \n",
    "    return _games.reset_index(drop=True)"
   ]
  },
  {
   "cell_type": "code",
   "execution_count": null,
   "metadata": {},
   "outputs": [],
   "source": [
    "%%time\n",
    "\n",
    "_games = games.sample(10)\n",
    "get_team_ranking_before_game(_games)"
   ]
  },
  {
   "cell_type": "code",
   "execution_count": 300,
   "metadata": {},
   "outputs": [],
   "source": [
    "games = games.sort_values(by='GAME_DATE_EST')"
   ]
  },
  {
   "cell_type": "code",
   "execution_count": 336,
   "metadata": {},
   "outputs": [],
   "source": [
    "def get_games_stats_before_date(team_id, date, n, stats_cols, game_type='all'):\n",
    "    \"\"\"\n",
    "    \"\"\"\n",
    "    \n",
    "    if game_type not in ['all','home','away']:\n",
    "        raise ValueError('game_type must be all, home or away')\n",
    "    \n",
    "    _games = games.loc[games['GAME_DATE_EST'] < date]\n",
    "    _games = _games.loc[(_games['TEAM_ID_home'] == team_id) | (_games['TEAM_ID_away'] == team_id)]\n",
    "    \n",
    "    _games.loc[:,'is_home'] = _games['TEAM_ID_home'] == team_id\n",
    "    \n",
    "    if game_type == 'home':\n",
    "        _games = _games.loc[_games['is_home']]\n",
    "        \n",
    "    elif game_type == 'away':\n",
    "        _games = _games.loc[~_games['is_home']]\n",
    "        \n",
    "    _games.loc[:,'WIN_PRCT'] = _games['is_home'] == _games['HOME_TEAM_WINS']\n",
    "    \n",
    "    for col in stats_cols:\n",
    "        _games.loc[:,col] = np.where(_games['is_home'], _games['%s_home'%col], _games['%s_away'%col])\n",
    "    \n",
    "    cols = ['WIN_PRCT'] + stats_cols\n",
    "    \n",
    "    if len(_games) < n:\n",
    "        return _games[cols]\n",
    "    \n",
    "    return _games.tail(n)[cols]\n",
    "\n",
    "\n",
    "\n",
    "STATS_COLUMNS = ['PTS','FG_PCT','FT_PCT','FG3_PCT','AST','REB']\n",
    "\n",
    "\n",
    "def get_games_stats_before_game(games, n, stats_cols=STATS_COLUMNS):\n",
    "    _games = games.copy()\n",
    "    \n",
    "    def _get_stats(game):\n",
    "        date = game['GAME_DATE_EST'].values[0]\n",
    "        home_team = game['TEAM_ID_home'].values[0]\n",
    "        away_team = game['TEAM_ID_away'].values[0]\n",
    "        \n",
    "        h_stats = get_games_stats_before_date(home_team, date, n, stats_cols, game_type='all')\n",
    "        h_stats.columns += '_home_%ig'%n\n",
    "        h_stats = h_stats.mean().to_frame().T\n",
    "        \n",
    "        a_stats = get_games_stats_before_date(away_team, date, n, stats_cols, game_type='all')\n",
    "        a_stats.columns += '_away_%ig'%n\n",
    "        a_stats = a_stats.mean().to_frame().T\n",
    "        \n",
    "        return pd.concat([h_stats, a_stats], axis=1)\n",
    "        \n",
    "        \n",
    "    _games = _games.groupby('GAME_ID').apply(_get_stats)\n",
    "    _games = _games.reset_index().drop(columns='level_1')\n",
    "    \n",
    "    return _games.reset_index(drop=True)"
   ]
  },
  {
   "cell_type": "code",
   "execution_count": null,
   "metadata": {},
   "outputs": [],
   "source": [
    "%%time\n",
    "\n",
    "_games = games.sample(10, random_state=42)\n",
    "get_games_stats_before_game(_games, n=2)"
   ]
  },
  {
   "cell_type": "code",
   "execution_count": null,
   "metadata": {},
   "outputs": [],
   "source": [
    "one_game = games.sample(1, random_state=42)\n",
    "one_game[['GAME_ID','GAME_DATE_EST','TEAM_ID_home','TEAM_ID_away','PTS_home','PTS_away','HOME_TEAM_WINS']]"
   ]
  },
  {
   "cell_type": "code",
   "execution_count": 325,
   "metadata": {},
   "outputs": [],
   "source": [
    "date = '2013-04-01'\n",
    "game_id = 21201104\n",
    "h_team = 1610612745\n",
    "a_team = 1610612753"
   ]
  },
  {
   "cell_type": "code",
   "execution_count": null,
   "metadata": {},
   "outputs": [],
   "source": [
    "_games = games[games['GAME_DATE_EST'] < date].sort_values(by='GAME_DATE_EST')\n",
    "    \n",
    "for team_id in [h_team, a_team]:\n",
    "    print(team_id)\n",
    "    _games2 = _games.loc[(_games['TEAM_ID_home'] == team_id) | (_games['TEAM_ID_away'] == team_id)]\n",
    "\n",
    "    \n",
    "    _games2 = _games2[['GAME_DATE_EST','TEAM_ID_home','PTS_home','REB_home','TEAM_ID_away','PTS_away','REB_away']]\n",
    "\n",
    " \n",
    "    display(_games2.tail(5))"
   ]
  },
  {
   "cell_type": "code",
   "execution_count": null,
   "metadata": {},
   "outputs": [],
   "source": [
    "res = get_games_stats_before_game(one_game, n=5, stats_cols=['PTS','REB'])\n",
    "res"
   ]
  },
  {
   "cell_type": "code",
   "execution_count": null,
   "metadata": {},
   "outputs": [],
   "source": [
    "h_pts = 116 + 96 + 91 + 94 + 98\n",
    "a_pts = 89 + 94 + 108 + 97 + 88\n",
    "\n",
    "h_reb = 54 + 44 + 42 + 35 + 48\n",
    "a_reb = 44 + 43 + 34 + 41 + 53\n",
    "\n",
    "h_pts = h_pts / 5\n",
    "h_reb = h_reb / 5\n",
    "\n",
    "a_pts = a_pts / 5\n",
    "a_reb = a_reb / 5\n",
    "\n",
    "print(h_pts, h_reb, a_pts, a_reb)\n",
    "\n",
    "assert h_pts == res['PTS_home_5g'].values[0]\n",
    "assert h_reb == res['REB_home_5g'].values[0]\n",
    "assert a_pts == res['PTS_away_5g'].values[0]\n",
    "assert a_reb == res['REB_away_5g'].values[0]\n"
   ]
  },
  {
   "cell_type": "code",
   "execution_count": null,
   "metadata": {},
   "outputs": [],
   "source": [
    "%%time \n",
    "\n",
    "def prepare_games_data(games):\n",
    "    rank_stats = get_team_ranking_before_game(games)\n",
    "    \n",
    "    game_stats_3g = get_games_stats_before_game(games, n=3)\n",
    "    \n",
    "    game_stats_10g = get_games_stats_before_game(games, n=10)\n",
    "    \n",
    "    formated_games = rank_stats.merge(game_stats_3g, on='GAME_ID')\n",
    "    formated_games = formated_games.merge(game_stats_10g, on='GAME_ID')\n",
    "    \n",
    "    return formated_games\n",
    "    \n",
    "    \n",
    "_games = games.sample(10, random_state=42)\n",
    "prepare_games_data(_games)"
   ]
  },
  {
   "cell_type": "code",
   "execution_count": 363,
   "metadata": {},
   "outputs": [],
   "source": [
    "_games = games[games['SEASON'] >= 2007]"
   ]
  },
  {
   "cell_type": "code",
   "execution_count": null,
   "metadata": {},
   "outputs": [],
   "source": [
    "_games['SEASON'].unique()"
   ]
  },
  {
   "cell_type": "code",
   "execution_count": null,
   "metadata": {},
   "outputs": [],
   "source": [
    "%%time\n",
    "games_formated = prepare_games_data(_games)"
   ]
  },
  {
   "cell_type": "code",
   "execution_count": 385,
   "metadata": {},
   "outputs": [],
   "source": [
    "games_formated = games_formated.merge(games[['GAME_ID','GAME_DATE_EST','SEASON','HOME_TEAM_WINS']], on='GAME_ID', how='left')\n",
    "games_formated = games_formated.reset_index(drop=True)"
   ]
  },
  {
   "cell_type": "code",
   "execution_count": null,
   "metadata": {},
   "outputs": [],
   "source": [
    "games_formated.head()"
   ]
  },
  {
   "cell_type": "code",
   "execution_count": null,
   "metadata": {},
   "outputs": [],
   "source": [
    "games_formated.info()"
   ]
  },
  {
   "cell_type": "code",
   "execution_count": null,
   "metadata": {},
   "outputs": [],
   "source": [
    "games_formated.isna().sum().sum()"
   ]
  },
  {
   "cell_type": "code",
   "execution_count": 388,
   "metadata": {},
   "outputs": [],
   "source": [
    "games_formated.to_csv('games_formated_07_20.csv', index=False)"
   ]
  }
 ],
 "metadata": {
  "kernelspec": {
   "display_name": "nba",
   "language": "python",
   "name": "nba"
  },
  "language_info": {
   "codemirror_mode": {
    "name": "ipython",
    "version": 3
   },
   "file_extension": ".py",
   "mimetype": "text/x-python",
   "name": "python",
   "nbconvert_exporter": "python",
   "pygments_lexer": "ipython3",
   "version": "3.8.5"
  }
 },
 "nbformat": 4,
 "nbformat_minor": 4
}
